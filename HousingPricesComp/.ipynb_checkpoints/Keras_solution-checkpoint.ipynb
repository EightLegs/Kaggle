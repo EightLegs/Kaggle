{
 "cells": [
  {
   "cell_type": "code",
   "execution_count": 1,
   "metadata": {},
   "outputs": [],
   "source": [
    "import numpy as np\n",
    "import pandas as pd\n",
    "import matplotlib.pyplot as plt\n",
    "import seaborn as sns\n",
    "import os\n",
    "\n",
    "from sklearn.pipeline import Pipeline \n",
    "from sklearn.impute import SimpleImputer\n",
    "from sklearn.preprocessing import LabelEncoder\n",
    "from sklearn.compose import ColumnTransformer\n",
    "from sklearn.model_selection import KFold\n",
    "\n",
    "import tensorflow as tf\n",
    "from tensorflow import keras\n",
    "from tensorflow.keras import layers,losses\n",
    "from tensorflow.keras.models import Sequential\n",
    "from tensorflow.keras.optimizers import Adam\n",
    "from tensorflow.keras.layers import Activation,Dense,Dropout,BatchNormalization,Input,Flatten\n",
    "from tensorflow.keras.metrics import Recall"
   ]
  },
  {
   "cell_type": "code",
   "execution_count": 27,
   "metadata": {},
   "outputs": [],
   "source": [
    "df = pd.read_csv('Input//train.csv')\n",
    "test = pd.read_csv('Input//train.csv')"
   ]
  },
  {
   "cell_type": "code",
   "execution_count": 29,
   "metadata": {},
   "outputs": [],
   "source": [
    "cat_columns=['Alley','MasVnrType','BsmtQual','BsmtCond','BsmtExposure','BsmtFinType1','BsmtFinType2','Electrical','FireplaceQu','GarageType','GarageFinish','GarageQual','GarageCond','PoolQC','Fence','MiscFeature']\n",
    "num_columns=['LotFrontage','MasVnrArea','GarageYrBlt']\n",
    "\n",
    "for cat_ in cat_columns:\n",
    "    df[cat_]=df[cat_].fillna(-1)\n",
    "    \n",
    "df['LotFrontage']=df['LotFrontage'].fillna(df['LotFrontage'].mean())\n",
    "df['MasVnrArea']=df['MasVnrArea'].fillna(df['MasVnrArea'].mean())\n",
    "df['GarageYrBlt']=df['GarageYrBlt'].fillna(1979.0)\n",
    "\n",
    "num_var = [key for key in dict(df.dtypes)\n",
    "             if dict(df.dtypes)[key] in ['float64','int64']]\n",
    "cat_var = [key for key in dict(df.dtypes)\n",
    "             if dict(df.dtypes)[key] in ['object']]\n",
    "le = LabelEncoder()\n",
    "for col in cat_var:\n",
    "    df[col] = le.fit_transform(df[col].astype(str))"
   ]
  },
  {
   "cell_type": "code",
   "execution_count": 30,
   "metadata": {
    "scrolled": false
   },
   "outputs": [],
   "source": [
    "#fig1, ax = plt.subplots(figsize= (35,35))\n",
    "#sns.heatmap(df.corr(), annot=True)\n",
    "#fig1.savefig(\"correlation_heatmap_before.png\")\n",
    "#df.corr().style.background_gradient(cmap='coolwarm')"
   ]
  },
  {
   "cell_type": "code",
   "execution_count": 31,
   "metadata": {},
   "outputs": [],
   "source": [
    "column_corr=['Id','MSSubClass','LandContour','Street','Utilities','LotConfig','LandSlope','Condition2','OverallCond','MasVnrType','BsmtFinType1','BsmtFinSF2','LowQualFinSF','BsmtHalfBath','3SsnPorch','PoolQC','MiscFeature','MiscVal','MoSold','YrSold','SaleType']\n",
    "for col1 in column_corr:\n",
    "    df.drop(col1,axis=1, inplace=True)\n",
    "    \n",
    "#fig, ax = plt.subplots(figsize= (35,35))\n",
    "#sns.heatmap(X_train.corr(), annot=True)\n",
    "#fig.savefig(\"correlation_heatmap_after1.png\")\n",
    "#X_train.corr().style.background_gradient(cmap='coolwarm')"
   ]
  },
  {
   "cell_type": "code",
   "execution_count": 32,
   "metadata": {},
   "outputs": [],
   "source": [
    "corr_column=['1stFlrSF','TotRmsAbvGrd','FireplaceQu','GarageArea','GarageQual']\n",
    "for col2 in corr_column:\n",
    "    df.drop(col2,axis=1, inplace=True)\n",
    "\n",
    "#fig, ax = plt.subplots(figsize= (35,35))\n",
    "#sns.heatmap(df.corr(), annot=True)\n",
    "#fig.savefig(\"correlation_heatmap_after2.png\")\n",
    "#df.corr().style.background_gradient(cmap='coolwarm')"
   ]
  },
  {
   "cell_type": "code",
   "execution_count": 33,
   "metadata": {},
   "outputs": [],
   "source": [
    "colu=['Alley','Condition1','BldgType','RoofMatl','Exterior1st','Exterior2nd','ExterCond','Heating','Functional','EnclosedPorch','ScreenPorch','PoolArea']\n",
    "for col_ in colu:\n",
    "    df.drop(col_,axis=1, inplace=True)\n",
    "\n",
    "#fig, ax = plt.subplots(figsize= (35,35))\n",
    "#sns.heatmap(df.corr(), annot=True)\n",
    "#fig.savefig(\"correlation_heatmap_after3.png\")\n",
    "#df.corr().style.background_gradient(cmap='coolwarm')"
   ]
  },
  {
   "cell_type": "code",
   "execution_count": 34,
   "metadata": {},
   "outputs": [],
   "source": [
    "X = df.iloc[:,0:42]\n",
    "y = df.iloc[:,42]\n",
    "\n",
    "\n",
    "df.loc[:, 'kfold'] = -1\n",
    "df = df.sample(frac=1).reset_index(drop=True)\n",
    "kf = KFold(n_splits=10)\n",
    "\n",
    "for fold, (trn_, val_) in enumerate(kf.split(X=df)):\n",
    "    df.loc[val_, 'kfold'] = fold"
   ]
  },
  {
   "cell_type": "code",
   "execution_count": 35,
   "metadata": {},
   "outputs": [],
   "source": [
    "model = Sequential([\n",
    "    Input(42),\n",
    "    layers.BatchNormalization(),\n",
    "    Dense(42, activation=tf.nn.leaky_relu),\n",
    "    layers.BatchNormalization(),\n",
    "    layers.Dropout(0.5),\n",
    "    Dense(64, activation=tf.nn.leaky_relu),\n",
    "    layers.BatchNormalization(),\n",
    "    layers.Dropout(0.5),\n",
    "    Dense(32, activation=tf.nn.leaky_relu),\n",
    "    layers.BatchNormalization(),\n",
    "    layers.Dropout(0.5),\n",
    "    Dense(16, activation=tf.nn.leaky_relu),\n",
    "    layers.BatchNormalization(),\n",
    "    layers.Dropout(0.5),\n",
    "    Dense(8, activation =tf.nn.leaky_relu),\n",
    "    layers.BatchNormalization(),\n",
    "    layers.Dropout(0.5),\n",
    "    Dense(4, activation=tf.nn.leaky_relu),\n",
    "    layers.BatchNormalization(),\n",
    "    layers.Dropout(0.5),\n",
    "    Dense(2, activation =tf.nn.leaky_relu),\n",
    "    layers.BatchNormalization(),\n",
    "    Dense(1, activation =tf.nn.relu)\n",
    "    \n",
    "    \n",
    "])\n",
    "model.compile(\n",
    "    optimizer=tf.keras.optimizers.Adam(learning_rate=0.8,beta_1=0.3),\n",
    "    loss='mean_squared_error',\n",
    "    metrics=tf.keras.metrics.RootMeanSquaredError())"
   ]
  },
  {
   "cell_type": "code",
   "execution_count": 36,
   "metadata": {},
   "outputs": [],
   "source": [
    "def function(arg):\n",
    "    arg = tf.convert_to_tensor(arg, dtype=tf.float32)\n",
    "    return arg"
   ]
  },
  {
   "cell_type": "code",
   "execution_count": 37,
   "metadata": {},
   "outputs": [],
   "source": [
    "class CallBack(tf.keras.callbacks.Callback):\n",
    "    def on_epoch_end(self, epoch, logs={}):\n",
    "        if(logs.get('val_root_mean_squared_error') <27000.0000):\n",
    "            self.model.stop_training=True\n",
    "callback = CallBack()"
   ]
  },
  {
   "cell_type": "code",
   "execution_count": 52,
   "metadata": {},
   "outputs": [],
   "source": [
    "def run(fold):\n",
    "    if fold==0:\n",
    "        epoch=1000\n",
    "    else:\n",
    "        epoch=1000\n",
    "    df_train= df[df.kfold != 0]\n",
    "    df_valid=df[df.kfold==0]\n",
    "    X_train=df_train.iloc[: , :42].values\n",
    "    y_train=df_train.iloc[:,42].values\n",
    "    X_valid=df_valid.iloc[: , :42].values\n",
    "    y_valid=df_valid.iloc[:,42].values\n",
    "    history=model.fit(X_train,y_train , verbose=0, epochs=epoch, \n",
    "         validation_data=(X_valid,y_valid),batch_size=2048,callbacks=[callback])"
   ]
  },
  {
   "cell_type": "code",
   "execution_count": 53,
   "metadata": {},
   "outputs": [
    {
     "name": "stdout",
     "output_type": "stream",
     "text": [
      "Wall time: 5.93 s\n"
     ]
    }
   ],
   "source": [
    "%%time\n",
    "for fold in range(10):\n",
    "    run(fold)"
   ]
  },
  {
   "cell_type": "code",
   "execution_count": 54,
   "metadata": {},
   "outputs": [],
   "source": [
    "df_test = pd.read_csv('Input\\\\test.csv')\n",
    "Id = df_test['Id']"
   ]
  },
  {
   "cell_type": "code",
   "execution_count": 55,
   "metadata": {},
   "outputs": [],
   "source": [
    "column_corr=['Id','MSSubClass','LandContour','Street','Utilities','LotConfig','LandSlope','Condition2','OverallCond','MasVnrType','BsmtFinType1','BsmtFinSF2','LowQualFinSF','BsmtHalfBath','3SsnPorch','PoolQC','MiscFeature','MiscVal','MoSold','YrSold','SaleType','1stFlrSF','TotRmsAbvGrd','FireplaceQu','GarageArea','GarageQual','Alley','Condition1','BldgType','RoofMatl','Exterior1st','Exterior2nd','ExterCond','Heating','Functional','EnclosedPorch','ScreenPorch','PoolArea']\n",
    "for col in column_corr:\n",
    "    df_test.drop(col,axis=1, inplace=True)"
   ]
  },
  {
   "cell_type": "code",
   "execution_count": 56,
   "metadata": {},
   "outputs": [],
   "source": [
    "num_var = [key for key in dict(df_test.dtypes)\n",
    "             if dict(df_test.dtypes)[key] in ['float64','int64']]\n",
    "cat_var = [key for key in dict(df_test.dtypes)\n",
    "             if dict(df_test.dtypes)[key] in ['object'] ]\n",
    "df_test[cat_var]=df_test[cat_var].fillna(-1)"
   ]
  },
  {
   "cell_type": "code",
   "execution_count": 57,
   "metadata": {},
   "outputs": [],
   "source": [
    "df_test['GarageYrBlt']=df_test['GarageYrBlt'].fillna(1979)"
   ]
  },
  {
   "cell_type": "code",
   "execution_count": 58,
   "metadata": {},
   "outputs": [],
   "source": [
    "num_var = [key for key in dict(df_test.dtypes)\n",
    "             if dict(df_test.dtypes)[key] in ['float64','int64']]\n",
    "for num_ in num_var:\n",
    "    df_test[num_]=df_test[num_].fillna(df_test[num_].mean())"
   ]
  },
  {
   "cell_type": "code",
   "execution_count": 59,
   "metadata": {},
   "outputs": [],
   "source": [
    "cat_var = [key for key in dict(df_test.dtypes)\n",
    "             if dict(df_test.dtypes)[key] in ['object'] ]"
   ]
  },
  {
   "cell_type": "code",
   "execution_count": 60,
   "metadata": {},
   "outputs": [],
   "source": [
    "label_encoder = LabelEncoder()\n",
    "for col in cat_var:\n",
    "    df_test[col] = label_encoder.fit_transform(df_test[col].astype(str))"
   ]
  },
  {
   "cell_type": "code",
   "execution_count": 61,
   "metadata": {},
   "outputs": [],
   "source": [
    "test_preds = model.predict(df_test)"
   ]
  },
  {
   "cell_type": "code",
   "execution_count": 62,
   "metadata": {},
   "outputs": [],
   "source": [
    "test_preds=np.array(test_preds).tolist()\n",
    "output=[]\n",
    "import itertools\n",
    "\n",
    "def oneDArray(x):\n",
    "    return list(itertools.chain(*x))\n",
    "test_preds=oneDArray(test_preds)"
   ]
  },
  {
   "cell_type": "code",
   "execution_count": 63,
   "metadata": {},
   "outputs": [],
   "source": [
    "output = pd.DataFrame({'Id': Id})\n",
    "output['SalePrice']=test_preds"
   ]
  },
  {
   "cell_type": "code",
   "execution_count": 64,
   "metadata": {},
   "outputs": [],
   "source": [
    "output.to_csv('Output\\\\submission.csv', index=False)"
   ]
  }
 ],
 "metadata": {
  "kernelspec": {
   "display_name": "Python 3",
   "language": "python",
   "name": "python3"
  },
  "language_info": {
   "codemirror_mode": {
    "name": "ipython",
    "version": 3
   },
   "file_extension": ".py",
   "mimetype": "text/x-python",
   "name": "python",
   "nbconvert_exporter": "python",
   "pygments_lexer": "ipython3",
   "version": "3.8.3"
  }
 },
 "nbformat": 4,
 "nbformat_minor": 4
}
