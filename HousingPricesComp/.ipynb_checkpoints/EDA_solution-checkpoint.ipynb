{
 "cells": [
  {
   "cell_type": "code",
   "execution_count": null,
   "metadata": {},
   "outputs": [],
   "source": [
    "#19600.61185 submission score\n",
    "import pandas as pd\n",
    "import numpy as np\n",
    "\n",
    "import seaborn as sns\n",
    "import matplotlib.pyplot as plt\n",
    "\n",
    "from sklearn.decomposition import PCA\n",
    "from sklearn import linear_model\n",
    "\n",
    "from sklearn.model_selection import cross_val_score, train_test_split, cross_validate, RandomizedSearchCV"
   ]
  },
  {
   "cell_type": "code",
   "execution_count": null,
   "metadata": {},
   "outputs": [],
   "source": [
    "def NA_Columns_Manage(df):\n",
    "    for col in df.columns:\n",
    "        if df[col].isna().any():\n",
    "            if df[col].nunique() < 20:\n",
    "                df[col]=df[col].fillna(-1)\n",
    "            else:\n",
    "                df[col] = df[col].fillna(int(df[col].mean()))\n",
    "    return df\n",
    "\n",
    "def Object_Columns_Manage(train_df, test_df):\n",
    "    categorical_columns = [cname for cname in train_df.columns if train_df[cname].dtype in ['object']] \n",
    "    train_df = pd.get_dummies(train_df, columns=categorical_columns)\n",
    "    test_df = pd.get_dummies(test_df, columns=categorical_columns)\n",
    "    for cname in train_df.columns:\n",
    "        if cname not in test_df.columns:\n",
    "            train_df.drop(cname, axis=1, inplace=True)\n",
    "    for cname in test_df.columns:\n",
    "        if cname not in train_df.columns:\n",
    "            test_df.drop(cname, axis=1, inplace=True)\n",
    "    return train_df, test_df\n",
    "\n",
    "def Correlation_Manage(train_df, test_df):\n",
    "    pca = PCA(n_components=70)\n",
    "    train_df = pd.DataFrame(pca.fit_transform(train_df))\n",
    "    test_df = pd.DataFrame(pca.transform(test_df))\n",
    "    return train_df, test_df"
   ]
  },
  {
   "cell_type": "code",
   "execution_count": null,
   "metadata": {},
   "outputs": [],
   "source": [
    "train_df = pd.read_csv('Input//train.csv')\n",
    "test_df = pd.read_csv('Input//test.csv')\n",
    "\n",
    "Y = train_df['SalePrice']\n",
    "train_df.drop(['SalePrice', 'Id'], axis = 1, inplace=True)\n",
    "test_Id = test_df['Id']\n",
    "test_df.drop(['Id'], axis = 1, inplace=True)\n",
    "\n",
    "train_df = NA_Columns_Manage(train_df)\n",
    "test_df = NA_Columns_Manage(test_df)\n",
    "\n",
    "train_df,test_df = Object_Columns_Manage(train_df,test_df)\n",
    "train_df,test_df = Correlation_Manage(train_df,test_df)"
   ]
  },
  {
   "cell_type": "code",
   "execution_count": null,
   "metadata": {},
   "outputs": [],
   "source": [
    "model = linear_model.Lasso()\n",
    "\n",
    "parameters = {'alpha': np.arange(0.7,1, 0.1),\n",
    "             'max_iter': np.arange(1000, 1500, 100)}\n",
    "\n",
    "X_train_part, X_valid_part, y_train_part, y_valid_part = train_test_split(train_df, Y, train_size = 0.8, test_size = 0.2, random_state = 8)\n",
    "\n",
    "random_search = RandomizedSearchCV(model, parameters,cv=10, random_state=0, n_jobs = -1, verbose = 3)\n",
    "random_search.fit(X_train_part, y_train_part)"
   ]
  },
  {
   "cell_type": "code",
   "execution_count": null,
   "metadata": {},
   "outputs": [],
   "source": [
    "random_search.best_estimator_\n",
    "random_search.best_score_"
   ]
  },
  {
   "cell_type": "code",
   "execution_count": null,
   "metadata": {},
   "outputs": [],
   "source": [
    "#test_preds = random_search.predict(X_valid_part)\n",
    "print(cross_val_score(random_search, X_valid_part, y_valid_part, cv=10).mean())"
   ]
  },
  {
   "cell_type": "code",
   "execution_count": null,
   "metadata": {},
   "outputs": [],
   "source": [
    "predictions = random_search.predict(test_df)\n",
    "output = pd.DataFrame({'Id': test_Id,\n",
    "                           'SalePrice': predictions})\n",
    "output.to_csv('submission.csv', index=False)"
   ]
  },
  {
   "cell_type": "code",
   "execution_count": null,
   "metadata": {},
   "outputs": [],
   "source": [
    "#Дальше идет черновик\n",
    "categorical_columns = [cname for cname in train_df.columns if train_df[cname].nunique() < 20\n",
    "                            and train_df[cname].dtype in ['object', 'str']]"
   ]
  },
  {
   "cell_type": "code",
   "execution_count": null,
   "metadata": {},
   "outputs": [],
   "source": [
    "print(test_df.shape[1], train_df.shape[1])\n"
   ]
  },
  {
   "cell_type": "code",
   "execution_count": null,
   "metadata": {},
   "outputs": [],
   "source": [
    "    corr_matrix = df.corr().abs()\n",
    "    upper = corr_matrix.where(np.triu(np.ones(corr_matrix.shape), k=1).astype(np.bool))\n",
    "    to_drop = [column for column in upper.columns if any(upper[column] > 0.6)]"
   ]
  },
  {
   "cell_type": "code",
   "execution_count": null,
   "metadata": {},
   "outputs": [],
   "source": [
    "plt.figure(figsize=(100,80))\n",
    "sns.heatmap(train_df.isnull(), cbar=False)\n",
    "plt.figure(figsize=(100,80))\n",
    "sns.heatmap(test_df.isnull(), cbar=False)\n",
    "\n",
    "for column in numerical_columns:\n",
    "    plt.figure(figsize=(5,5))\n",
    "    sns.scatterplot(data=train_df, x='SalePrice', y=column)"
   ]
  },
  {
   "cell_type": "code",
   "execution_count": null,
   "metadata": {},
   "outputs": [],
   "source": [
    "train_df.corr().abs()\n",
    "from sklearn.decomposition import PCA\n",
    "    one_hot_encoder = OneHotEncoder(handle_unknown='ignore', categories='auto')\n",
    "    train_df = one_hot_encoder.fit_transform(train_df[categorical_columns])\n",
    "    test_df = one_hot_encoder.transform(test_df[categorical_columns])"
   ]
  },
  {
   "cell_type": "code",
   "execution_count": null,
   "metadata": {},
   "outputs": [],
   "source": []
  },
  {
   "cell_type": "code",
   "execution_count": null,
   "metadata": {},
   "outputs": [],
   "source": []
  }
 ],
 "metadata": {
  "kernelspec": {
   "display_name": "Python 3",
   "language": "python",
   "name": "python3"
  },
  "language_info": {
   "codemirror_mode": {
    "name": "ipython",
    "version": 3
   },
   "file_extension": ".py",
   "mimetype": "text/x-python",
   "name": "python",
   "nbconvert_exporter": "python",
   "pygments_lexer": "ipython3",
   "version": "3.8.3"
  }
 },
 "nbformat": 4,
 "nbformat_minor": 4
}
