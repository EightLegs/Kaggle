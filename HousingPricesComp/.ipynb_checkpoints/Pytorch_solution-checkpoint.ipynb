{
 "cells": [
  {
   "cell_type": "code",
   "execution_count": 1,
   "metadata": {},
   "outputs": [],
   "source": [
    "import numpy as np\n",
    "import pandas as pd\n",
    "from matplotlib import pyplot as plt\n",
    "import seaborn as sns\n",
    "\n",
    "from sklearn.pipeline import Pipeline\n",
    "from sklearn.preprocessing import OneHotEncoder, LabelEncoder\n",
    "from sklearn.impute import SimpleImputer\n",
    "from sklearn.compose import ColumnTransformer\n",
    "\n",
    "import torch\n",
    "from torch import nn\n",
    "import torch.optim as optim\n",
    "from torchvision import transforms, datasets\n",
    "import torch.nn.functional as F\n",
    "import torch.utils.data as utils\n",
    "from torch.utils.data import Dataset, DataLoader"
   ]
  },
  {
   "cell_type": "code",
   "execution_count": 88,
   "metadata": {},
   "outputs": [],
   "source": [
    "device = torch.device('cuda:0' if torch.cuda.is_available() else 'cpu')\n",
    "train_df = pd.read_csv('Input/train.csv')\n",
    "test_df = pd.read_csv('Input/test.csv')\n",
    "\n",
    "train_df.dropna(axis = 1, inplace=True)\n",
    "train_df = pd.get_dummies(train_df, drop_first=True)\n",
    "\n",
    "y_train = train_df.SalePrice\n",
    "X_train = train_df.drop(['SalePrice'], axis = 1)\n",
    "X_train = torch.tensor(X_train.values, dtype= torch.float32, device=device)\n",
    "y_train = torch.tensor(y_train.values, dtype=torch.float32, device=device)\n",
    "#train_ds = utils.TensorDataset(torch.tensor(X_train.values, dtype=torch.float32).view(-1,X_train.shape[1]))\n",
    "\n",
    "#trainset = torch.utils.data.DataLoader(train_ds, batch_size=1, shuffle=True)\n",
    "#loss_func = F.mse_loss"
   ]
  },
  {
   "cell_type": "code",
   "execution_count": 89,
   "metadata": {},
   "outputs": [],
   "source": [
    "class HousePriceDataSet(Dataset):\n",
    "    def __init__(self, X_train, y_train):\n",
    "        self.X_train = X_train\n",
    "        self.y_train = y_train\n",
    "        self.len = X_train.shape[0]\n",
    "        \n",
    "    def __getitem__(self, idx): \n",
    "        return self.X_train[idx], self.y_train[idx]\n",
    "    \n",
    "    def __len__(self):\n",
    "        return self.len"
   ]
  },
  {
   "cell_type": "code",
   "execution_count": 93,
   "metadata": {},
   "outputs": [],
   "source": [
    "dataset = HousePriceDataSet(X_train, y_train)\n",
    "train_loader = DataLoader(dataset, batch_size = 256, shuffle=True)"
   ]
  },
  {
   "cell_type": "code",
   "execution_count": 105,
   "metadata": {},
   "outputs": [],
   "source": [
    "class HousePriceNET(nn.Module):\n",
    "    def __init__(self, in_feat):\n",
    "        super(HousePriceNET, self).__init__()\n",
    "        self.bn1 = nn.BatchNorm1d(in_feat)\n",
    "        self.lin1 = nn.Linear(in_feat, 512)\n",
    "        self.do1 = nn.Dropout(p=0.5)\n",
    "        self.bn2 = nn.BatchNorm1d(512)\n",
    "        self.lin2 = nn.Linear(512, 256)\n",
    "        self.do2 = nn.Dropout(p=0.5)\n",
    "        self.bn3 = nn.BatchNorm1d(256)\n",
    "        self.lin3 = nn.Linear(256, 128)\n",
    "        self.do3 = nn.Dropout(p=0.5)\n",
    "        self.bn4 = nn.BatchNorm1d(128)\n",
    "        self.lin4 = nn.Linear(128, 32)\n",
    "        self.do4 = nn.Dropout(p=0.5)\n",
    "        self.bn5 = nn.BatchNorm1d(32)\n",
    "        self.lin5 = nn.Linear(32, 1)\n",
    "        self.LOSS = []\n",
    "    def forward(self, x):\n",
    "        x = x.to(device)\n",
    "        x = self.bn1(x)\n",
    "        x = F.relu(self.lin1(x))\n",
    "        x = self.do1(x)\n",
    "        x = self.bn2(x)\n",
    "        x = F.relu(self.lin2(x))\n",
    "        x = self.do2(x)\n",
    "        x = self.bn3(x)\n",
    "        x = F.relu(self.lin3(x))\n",
    "        x = self.do3(x)\n",
    "        x = self.bn4(x)\n",
    "        x = F.relu(self.lin4(x))\n",
    "        x = self.do4(x)\n",
    "        x = self.bn5(x)\n",
    "        return self.lin5(x)\n",
    "    def fit(self,dataloader,epochs, lr):\n",
    "        optimizer = optim.SGD(self.lin5.parameters(), lr = lr)\n",
    "        criterion = nn.MSELoss()\n",
    "        for epoch in range(epochs):\n",
    "            for x,y in dataloader:\n",
    "                x = x.to(device)\n",
    "                y = y.to(device)\n",
    "                yhat = HousePriceNET.forward(self,x)\n",
    "                loss = criterion(yhat, y.view(-1,1))\n",
    "                self.LOSS.append(loss.item())\n",
    "                optimizer.zero_grad()\n",
    "                loss.backward()\n",
    "                optimizer.step()\n",
    "    def plot_loss(self):\n",
    "        plt.plot(self.LOSS)\n",
    "        plt.xlabel(\"Iterations \")\n",
    "        plt.ylabel(\"Cost/total loss \")"
   ]
  },
  {
   "cell_type": "code",
   "execution_count": 109,
   "metadata": {},
   "outputs": [
    {
     "name": "stdout",
     "output_type": "stream",
     "text": [
      "Wall time: 27.8 s\n"
     ]
    },
    {
     "data": {
      "image/png": "[encoded data removed]",
      "text/plain": [
       "<Figure size 432x288 with 1 Axes>"
      ]
     },
     "metadata": {
      "needs_background": "light"
     },
     "output_type": "display_data"
    }
   ],
   "source": [
    "%%time\n",
    "net = HousePriceNET(X_train.shape[1])\n",
    "net = net.to(device)\n",
    "net.fit(train_loader, 1000, 1e-2)\n",
    "net.plot_loss()"
   ]
  },
  {
   "cell_type": "code",
   "execution_count": 5,
   "metadata": {},
   "outputs": [
    {
     "data": {
      "text/plain": [
       "189"
      ]
     },
     "execution_count": 5,
     "metadata": {},
     "output_type": "execute_result"
    }
   ],
   "source": []
  },
  {
   "cell_type": "code",
   "execution_count": null,
   "metadata": {},
   "outputs": [],
   "source": []
  }
 ],
 "metadata": {
  "kernelspec": {
   "display_name": "Python 3",
   "language": "python",
   "name": "python3"
  },
  "language_info": {
   "codemirror_mode": {
    "name": "ipython",
    "version": 3
   },
   "file_extension": ".py",
   "mimetype": "text/x-python",
   "name": "python",
   "nbconvert_exporter": "python",
   "pygments_lexer": "ipython3",
   "version": "3.8.3"
  }
 },
 "nbformat": 4,
 "nbformat_minor": 4
}
